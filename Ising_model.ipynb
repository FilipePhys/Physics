{
 "cells": [
  {
   "cell_type": "code",
   "execution_count": 1,
   "metadata": {},
   "outputs": [],
   "source": [
    "from sympy.physics.quantum import TensorProduct as tp\n",
    "from scipy.optimize import curve_fit\n",
    "import matplotlib.pyplot as plt\n",
    "from numpy import linalg as la\n",
    "import numpy as np\n",
    "import time as tm"
   ]
  },
  {
   "cell_type": "markdown",
   "metadata": {},
   "source": [
    "# Ising Model with transversal magnetic field!!!"
   ]
  },
  {
   "cell_type": "markdown",
   "metadata": {},
   "source": [
    "$$H=−J\\sum_{i=1}^L S_i^zS_{i+1}^z−h \\sum_iS_i^x$$"
   ]
  },
  {
   "cell_type": "code",
   "execution_count": 2,
   "metadata": {},
   "outputs": [
    {
     "name": "stdout",
     "output_type": "stream",
     "text": [
      "['00', '01', '10', '11']\n"
     ]
    }
   ],
   "source": [
    "class bin_operators:\n",
    "    \"\"\"It gives the states as binary and as number\"\"\"\n",
    "    def __init__(self, chain):\n",
    "        self.chain   = chain\n",
    "        self.h_s = 2**chain #Hilbert size = h_s\n",
    "        \n",
    "    def binconf(self, state):\n",
    "        \"\"\"Entry with a state as number and return a state as binary(type string). \n",
    "        \n",
    "           Ex: input = 44 | output = '0101100'. \n",
    "        \"\"\"\n",
    "        if state < self.h_s:\n",
    "            binary = np.binary_repr(state , self.chain)\n",
    "            return binary\n",
    "        else:\n",
    "            print(\"for this chain the max state is {} which represent\".format(self.h_s-1))\n",
    "            np.binary_repr(self.h_s-1,self.chain)\n",
    "            return np.binary_repr(self.h_s-1,self.chain)\n",
    "    \n",
    "    def state(self,binconf):\n",
    "        \"\"\"If we have the binary and need the state as number, what is between 0 and 2^chain-1. \"\"\"\n",
    "        return int(binconf,2) \n",
    "        \n",
    "    def readsite(self,state, i):\n",
    "        \"\"\"Enter with a int and return 0 or 1 in a position i as integer\n",
    "        \n",
    "           Ex: input = state = 7, i=0 | '111' | output = return 0.\n",
    "        \"\"\"\n",
    "        conf = self.binconf(state)\n",
    "        return int(conf[i])\n",
    "    \n",
    "    def all_states(self):\n",
    "        \"\"\"If you need to see the states as binary. Return a list\"\"\"\n",
    "        return [np.binary_repr(i,self.chain) for i in range(self.h_s)]\n",
    "p = bin_operators(2)\n",
    "print(p.all_states())"
   ]
  },
  {
   "cell_type": "markdown",
   "metadata": {},
   "source": [
    "## Setting the basis!"
   ]
  },
  {
   "cell_type": "markdown",
   "metadata": {},
   "source": [
    "$$\n",
    "\\sigma_z=\\begin{pmatrix}\n",
    "1&0\\\\\n",
    "0&-1\\\\\n",
    "\\end{pmatrix},\n",
    "\\sigma_x=\\begin{pmatrix}\n",
    "0&1\\\\\n",
    "1&0\\\\\n",
    "\\end{pmatrix},\n",
    "\\sigma_y=\\begin{pmatrix}\n",
    "0&-i\\\\\n",
    "i&0\\\\\n",
    "\\end{pmatrix}\n",
    "$$\n",
    "$$\n",
    "|0\\rangle=\\begin{pmatrix}\n",
    "0\\\\\n",
    "1\\\\\n",
    "\\end{pmatrix},\n",
    "|1\\rangle=\\begin{pmatrix}\n",
    "1\\\\\n",
    "0\\\\\n",
    "\\end{pmatrix}\n",
    "$$\n"
   ]
  },
  {
   "cell_type": "markdown",
   "metadata": {},
   "source": [
    "$$\n",
    "\\begin{pmatrix}\n",
    "1&0\\\\\n",
    "0&-1\\\\\n",
    "\\end{pmatrix}\n",
    "\\begin{pmatrix}\n",
    "0\\\\\n",
    "1\\\\\n",
    "\\end{pmatrix}\n",
    "=\n",
    "-\\begin{pmatrix}\n",
    "0\\\\\n",
    "1\\\\\n",
    "\\end{pmatrix}\n",
    "\\longrightarrow\n",
    "\\sigma_z|0\\rangle=-|0\\rangle\n",
    "$$\n",
    "$$\n",
    "\\begin{pmatrix}\n",
    "1&0\\\\\n",
    "0&-1\\\\\n",
    "\\end{pmatrix}\n",
    "\\begin{pmatrix}\n",
    "1\\\\\n",
    "0\\\\\n",
    "\\end{pmatrix}\n",
    "=+\n",
    "\\begin{pmatrix}\n",
    "1\\\\\n",
    "0\\\\\n",
    "\\end{pmatrix}\n",
    "\\longrightarrow\n",
    "\\sigma_z|1\\rangle=+|1\\rangle\n",
    "$$\n"
   ]
  },
  {
   "cell_type": "markdown",
   "metadata": {},
   "source": [
    "$$\\begin{pmatrix}\n",
    "0&1\\\\\n",
    "1&0\\\\\n",
    "\\end{pmatrix}\n",
    "\\begin{pmatrix}\n",
    "0\\\\\n",
    "1\\\\\n",
    "\\end{pmatrix}=+\n",
    "\\begin{pmatrix}\n",
    "1\\\\\n",
    "0\\\\\n",
    "\\end{pmatrix}\n",
    "\\longrightarrow\n",
    "\\sigma_x|0\\rangle=+|1\\rangle\n",
    "$$\n",
    "\n",
    "$$\\begin{pmatrix}\n",
    "0&1\\\\\n",
    "1&0\\\\\n",
    "\\end{pmatrix}\n",
    "\\begin{pmatrix}\n",
    "1\\\\\n",
    "0\\\\\n",
    "\\end{pmatrix}=+\n",
    "\\begin{pmatrix}\n",
    "0\\\\\n",
    "1\\\\\n",
    "\\end{pmatrix}\n",
    "\\longrightarrow\n",
    "\\sigma_x|1\\rangle=+|0\\rangle\n",
    "$$"
   ]
  },
  {
   "cell_type": "markdown",
   "metadata": {},
   "source": [
    "$$\\begin{pmatrix}\n",
    "0&-i\\\\\n",
    "i&0\\\\\n",
    "\\end{pmatrix}\n",
    "\\begin{pmatrix}\n",
    "0\\\\\n",
    "1\\\\\n",
    "\\end{pmatrix}=-i\n",
    "\\begin{pmatrix}\n",
    "1\\\\\n",
    "0\\\\\n",
    "\\end{pmatrix}\n",
    "\\longrightarrow\n",
    "\\sigma_y|0\\rangle=-i|1\\rangle\n",
    "$$\n",
    "\n",
    "$$\\begin{pmatrix}\n",
    "0&-i\\\\\n",
    "i&0\\\\\n",
    "\\end{pmatrix}\n",
    "\\begin{pmatrix}\n",
    "1\\\\\n",
    "0\\\\\n",
    "\\end{pmatrix}=+i\n",
    "\\begin{pmatrix}\n",
    "0\\\\\n",
    "1\\\\\n",
    "\\end{pmatrix}\n",
    "\\longrightarrow\n",
    "\\sigma_y|1\\rangle=+i|0\\rangle\n",
    "$$"
   ]
  },
  {
   "cell_type": "code",
   "execution_count": 4,
   "metadata": {},
   "outputs": [
    {
     "name": "stdout",
     "output_type": "stream",
     "text": [
      "['00', '01', '10', '11']\n"
     ]
    },
    {
     "data": {
      "text/plain": [
       "(-0.25, 0)"
      ]
     },
     "execution_count": 4,
     "metadata": {},
     "output_type": "execute_result"
    }
   ],
   "source": [
    "#Arrumar SxSx e SySy\n",
    "class spin_operators:\n",
    "    def __init__(self,chain):\n",
    "        \"\"\"This class gives the operation of spins productor between spins in same ket(state)\n",
    "        \n",
    "           We need to use the bin operators = bo\n",
    "        \n",
    "           binconf   (state=number          )\n",
    "           state     (binconf=binary        )\n",
    "           readsite  (state=number, i=number)\n",
    "           all_states(                      )\n",
    "        \"\"\"\n",
    "        self.chain = chain\n",
    "        self.bo = bin_operators(chain)\n",
    "        self.hs= bin_operators(chain).h_s\n",
    "        \n",
    "    def Sx(self, state,i):\n",
    "        \"\"\"This method apply 1/2sigma_x in the spin's site i. \n",
    "        \n",
    "           Ex: s1|001>=1/2|101>\n",
    "        \"\"\"\n",
    "        site = np.arange(self.chain-1,-1,-1)\n",
    "        try:\n",
    "            return 1/2, state^(1<<(site[i]))\n",
    "        except:\n",
    "            print('wrong answer! It was applied sx1. The max i is: {}'.format(self.chain-1))\n",
    "            return 1/2, state^(1<<(site[0]))\n",
    "    \n",
    "    def Sy(self, state,i):\n",
    "        \"\"\"This method apply 1/2sigma_y in the spin's site i. \n",
    "        \n",
    "           Ex: s1|001>=-1/2j|101> or s3|001>=1/2j|101>\n",
    "        \"\"\"\n",
    "        site = np.arange(self.chain-1,-1,-1)\n",
    "        try:\n",
    "            if state^(1<<(site[i])) == 1:\n",
    "                return  -1j/2, state^(1<<(site[i]))\n",
    "            else: return 1j/2, state^(1<<(site[i]))\n",
    "    \n",
    "        except:\n",
    "            print('wrong answer! It was applied sy1. The max i is: {}'.format(self.chain-1))\n",
    "            return 1j/2, state^(1<<(site[0]))\n",
    "        \n",
    "    def Sz(self, state ,i ):\n",
    "        \"\"\"Si|0101010001> = si|0101010001> where si is a number \n",
    "        \n",
    "           ex: S1|01> = -1/2|01> or S2|01> = 1/2|01>\n",
    "        \"\"\"\n",
    "        si = self.bo.readsite(state, i)-1/2\n",
    "        return si,state\n",
    "    \n",
    "    def SxSx(self,state,i):\n",
    "        \"\"\"SiSj|010101> = sisj|010101> where si and sj is a number \n",
    "        \n",
    "           ex:S1S2|01> = 1/2 1/2|10>\n",
    "        \"\"\"\n",
    "        site = np.arange(self.chain-1,-1,-1)\n",
    "        if site[i]==0:\n",
    "            return 1/4, state^(1<<site[i])^(1<<(self.chain-1))\n",
    "        else:\n",
    "            return 1/4, state^(1<<site[i])^(1<<(site[i]-1))\n",
    "        \n",
    "    def SySy(self,state,i):\n",
    "        \"\"\"SiSj|010101> = sisj|010101> where si and sj is a number \n",
    "        \n",
    "           ex:S1S2|01> = -1j/2 1j/2 |10> = 1/4 |10>\n",
    "        \"\"\"\n",
    "        j   = self.bo.readsite(state,i)\n",
    "        jp1 = self.bo.readsite(state,(i+1)%self.chain)\n",
    "        if j+jp1 == 0 or j+jp1 ==2:\n",
    "            ev = -1/4\n",
    "        else: ev =1/4\n",
    "        \n",
    "        site = np.arange(self.chain-1,-1,-1)\n",
    "        if site[i]==0:\n",
    "            return ev, state^(1<<site[i])^(1<<(self.chain-1))\n",
    "        else:\n",
    "            return ev, state^(1<<site[i])^(1<<(site[(i+1)%(self.chain)]))\n",
    "    \n",
    "    def SzSz(self, state ,i):\n",
    "        \"\"\"SiSj|0101010001> = sisj|0101010001> where si and sj is a number\n",
    "        \n",
    "           ex:S1S2|01> = -1/2 1/2|01>\n",
    "        \"\"\"\n",
    "        si = self.bo.readsite(state, i%self.chain)-1/2\n",
    "        sj = self.bo.readsite(state, (i+1)%self.chain)-1/2\n",
    "        return si*sj\n",
    "print(p.all_states())\n",
    "spin_operators(2).SySy(3,1)"
   ]
  },
  {
   "cell_type": "code",
   "execution_count": 19,
   "metadata": {},
   "outputs": [
    {
     "data": {
      "text/plain": [
       "array([[-0.75, -0.5 , -0.5 , -0.  , -0.5 , -0.  , -0.  , -0.  ],\n",
       "       [-0.5 ,  0.25, -0.  , -0.5 , -0.  , -0.5 , -0.  , -0.  ],\n",
       "       [-0.5 , -0.  ,  0.25, -0.5 , -0.  , -0.  , -0.5 , -0.  ],\n",
       "       [-0.  , -0.5 , -0.5 ,  0.25, -0.  , -0.  , -0.  , -0.5 ],\n",
       "       [-0.5 , -0.  , -0.  , -0.  ,  0.25, -0.5 , -0.5 , -0.  ],\n",
       "       [-0.  , -0.5 , -0.  , -0.  , -0.5 ,  0.25, -0.  , -0.5 ],\n",
       "       [-0.  , -0.  , -0.5 , -0.  , -0.5 , -0.  ,  0.25, -0.5 ],\n",
       "       [-0.  , -0.  , -0.  , -0.5 , -0.  , -0.5 , -0.5 , -0.75]])"
      ]
     },
     "execution_count": 19,
     "metadata": {},
     "output_type": "execute_result"
    }
   ],
   "source": [
    "class Ising_model:\n",
    "    def __init__(self, chain):\n",
    "        \"\"\"You need to call spin operator = self.so.(plus)\n",
    "        \n",
    "           plus:\n",
    "           Sx  (state,i  )\n",
    "           Sy  (state,i  )\n",
    "           Sz  (state,i  )    \n",
    "           SxSx(state,i  )\n",
    "           SySy(state,i  )\n",
    "           SzSz(state,i,j)\n",
    "        \"\"\"\n",
    "        self.chain = chain\n",
    "        self.hs    = 2**chain\n",
    "        self.so    = spin_operators(chain)\n",
    "    \n",
    "    def Hamiltonian_int(self):\n",
    "        \"\"\"Ising Hamiltonia with boundary conditions S_N = S_0 only for SzSz\"\"\"\n",
    "        egv_bc= [sum([self.so.SzSz(k,i) for i in range(self.chain)]) for k in range(self.hs)]       \n",
    "        return egv_bc\n",
    "    \n",
    "    def Hamiltonian(self,J,h):\n",
    "        H = -J*np.diag( self.Hamiltonian_int() )\n",
    "        for state in range(self.hs):\n",
    "            for j in range(self.chain):\n",
    "                value, newstate = self.so.Sx(state,j)\n",
    "                H[newstate,state] -= h*value\n",
    "        return H\n",
    "    \n",
    "    def eg_ValVec(self,J,h):\n",
    "        egval, egvec=la.eigh(self.Hamiltonian(J,h))\n",
    "        return egval, egvec**2\n",
    "    \n",
    "    def plot(self,J,h,i=0):\n",
    "        ini = tm.time()\n",
    "        EVev = self.eg_ValVec(J,h)[1]\n",
    "        plt.plot(EVev[:,i],'red')\n",
    "        plt.plot(EVev[i,:],'k')\n",
    "        plt.show()\n",
    "        end = tm.time()\n",
    "        print(\"time: {} second\".format(end-ini))\n",
    "        return\n",
    "        \n",
    "Ising_model(3).Hamiltonian(1,1)"
   ]
  },
  {
   "cell_type": "code",
   "execution_count": 25,
   "metadata": {},
   "outputs": [
    {
     "data": {
      "image/png": "[encoded data removed]",
      "text/plain": [
       "<Figure size 432x288 with 1 Axes>"
      ]
     },
     "metadata": {
      "needs_background": "light"
     },
     "output_type": "display_data"
    },
    {
     "name": "stdout",
     "output_type": "stream",
     "text": [
      "time: 76.2632315158844 second\n"
     ]
    }
   ],
   "source": [
    "Ising_model(13).plot(2,0.5)\n"
   ]
  },
  {
   "cell_type": "code",
   "execution_count": null,
   "metadata": {},
   "outputs": [],
   "source": []
  },
  {
   "cell_type": "code",
   "execution_count": null,
   "metadata": {},
   "outputs": [],
   "source": []
  },
  {
   "cell_type": "code",
   "execution_count": 48,
   "metadata": {},
   "outputs": [],
   "source": []
  },
  {
   "cell_type": "code",
   "execution_count": null,
   "metadata": {},
   "outputs": [],
   "source": [
    "\n"
   ]
  },
  {
   "cell_type": "code",
   "execution_count": null,
   "metadata": {},
   "outputs": [],
   "source": []
  },
  {
   "cell_type": "code",
   "execution_count": null,
   "metadata": {},
   "outputs": [],
   "source": []
  },
  {
   "cell_type": "code",
   "execution_count": null,
   "metadata": {},
   "outputs": [],
   "source": []
  },
  {
   "cell_type": "code",
   "execution_count": null,
   "metadata": {},
   "outputs": [],
   "source": []
  },
  {
   "cell_type": "code",
   "execution_count": null,
   "metadata": {},
   "outputs": [],
   "source": []
  },
  {
   "cell_type": "code",
   "execution_count": null,
   "metadata": {},
   "outputs": [],
   "source": []
  },
  {
   "cell_type": "code",
   "execution_count": null,
   "metadata": {},
   "outputs": [],
   "source": [
    "\n",
    "\n"
   ]
  },
  {
   "cell_type": "code",
   "execution_count": null,
   "metadata": {},
   "outputs": [],
   "source": [
    "\n"
   ]
  },
  {
   "cell_type": "markdown",
   "metadata": {},
   "source": [
    "The Bitwise Operators:\n",
    "\n",
    "$x << y$\n",
    "\n",
    "    Returns x with the bits shifted to the left by y places (and new bits on the right-hand-side are zeros). This is the same as multiplying x by 2**y. \n",
    "\n",
    "$x >> y$\n",
    "\n",
    "    Returns x with the bits shifted to the right by y places. This is the same as //'ing x by 2**y. \n",
    "\n",
    "$x & y$\n",
    "\n",
    "    Does a \"bitwise and\". Each bit of the output is 1 if the corresponding bit of x AND of y is 1, otherwise it's 0. \n",
    "\n",
    "$x | y$\n",
    "\n",
    "    Does a \"bitwise or\". Each bit of the output is 0 if the corresponding bit of x AND of y is 0, otherwise it's 1.\n",
    "    \n",
    "$~ x$\n",
    "\n",
    "    Returns the complement of x - the number you get by switching each 1 for a 0 and each 0 for a 1. This is the same as -x - 1. \n",
    "\n",
    "$x ^ y$\n",
    "\n",
    "    Does a \"bitwise exclusive or\". Each bit of the output is the same as the corresponding bit in x if that bit in y is 0, and it's the complement of the bit in x if that bit in y is 1. \n",
    "\n",
    "Just remember about that infinite series of 1 bits in a negative number, and these should all make sense."
   ]
  },
  {
   "cell_type": "code",
   "execution_count": null,
   "metadata": {},
   "outputs": [],
   "source": []
  }
 ],
 "metadata": {
  "kernelspec": {
   "display_name": "Python 3",
   "language": "python",
   "name": "python3"
  },
  "language_info": {
   "codemirror_mode": {
    "name": "ipython",
    "version": 3
   },
   "file_extension": ".py",
   "mimetype": "text/x-python",
   "name": "python",
   "nbconvert_exporter": "python",
   "pygments_lexer": "ipython3",
   "version": "3.7.3"
  }
 },
 "nbformat": 4,
 "nbformat_minor": 2
}
